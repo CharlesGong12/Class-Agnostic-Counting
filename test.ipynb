{
 "cells": [
  {
   "cell_type": "code",
   "execution_count": 18,
   "metadata": {},
   "outputs": [
    {
     "name": "stdout",
     "output_type": "stream",
     "text": [
      "torch.Size([1, 512])\n"
     ]
    },
    {
     "ename": "RuntimeError",
     "evalue": "shape '[1, 512, 768]' is invalid for input of size 150528",
     "output_type": "error",
     "traceback": [
      "\u001b[0;31m---------------------------------------------------------------------------\u001b[0m",
      "\u001b[0;31mRuntimeError\u001b[0m                              Traceback (most recent call last)",
      "\u001b[1;32m/root/CAC_DIP2023/test.ipynb 单元格 1\u001b[0m in \u001b[0;36m<cell line: 14>\u001b[0;34m()\u001b[0m\n\u001b[1;32m     <a href='vscode-notebook-cell://ssh-remote%2Bfyw1080/root/CAC_DIP2023/test.ipynb#W0sdnNjb2RlLXJlbW90ZQ%3D%3D?line=10'>11</a>\u001b[0m \u001b[39m# x=preprocess(x)\u001b[39;00m\n\u001b[1;32m     <a href='vscode-notebook-cell://ssh-remote%2Bfyw1080/root/CAC_DIP2023/test.ipynb#W0sdnNjb2RlLXJlbW90ZQ%3D%3D?line=11'>12</a>\u001b[0m \u001b[39m# print(x)\u001b[39;00m\n\u001b[1;32m     <a href='vscode-notebook-cell://ssh-remote%2Bfyw1080/root/CAC_DIP2023/test.ipynb#W0sdnNjb2RlLXJlbW90ZQ%3D%3D?line=12'>13</a>\u001b[0m \u001b[39mprint\u001b[39m(clip_encoder\u001b[39m.\u001b[39mencode_image(x)\u001b[39m.\u001b[39mshape)\n\u001b[0;32m---> <a href='vscode-notebook-cell://ssh-remote%2Bfyw1080/root/CAC_DIP2023/test.ipynb#W0sdnNjb2RlLXJlbW90ZQ%3D%3D?line=13'>14</a>\u001b[0m x \u001b[39m=\u001b[39m x\u001b[39m.\u001b[39;49mview(\u001b[39m1\u001b[39;49m, \u001b[39m512\u001b[39;49m, \u001b[39m768\u001b[39;49m) \n",
      "\u001b[0;31mRuntimeError\u001b[0m: shape '[1, 512, 768]' is invalid for input of size 150528"
     ]
    }
   ],
   "source": [
    "from functools import partial\n",
    "\n",
    "import torch\n",
    "import torch.nn as nn\n",
    "from timm.models.vision_transformer import PatchEmbed, Block\n",
    "import open_clip\n",
    "from util.pos_embed import get_2d_sincos_pos_embed\n",
    "\n",
    "clip_encoder, _, preprocess = open_clip.create_model_and_transforms('ViT-B-32', pretrained='laion2b_s34b_b79k')\n",
    "x=torch.randn(1,3,224,224)\n",
    "# x=preprocess(x)\n",
    "# print(x)\n",
    "print(clip_encoder.encode_image(x).shape)\n",
    "x = x.view(1, 512, 768) "
   ]
  },
  {
   "cell_type": "code",
   "execution_count": 13,
   "metadata": {},
   "outputs": [
    {
     "name": "stdout",
     "output_type": "stream",
     "text": [
      "torch.Size([1, 3, 224, 224])\n",
      "torch.Size([1, 512]) torch.Size([1, 512])\n"
     ]
    }
   ],
   "source": [
    "import torch\n",
    "from PIL import Image\n",
    "import open_clip\n",
    "\n",
    "model, _, preprocess = open_clip.create_model_and_transforms('ViT-B-32', pretrained='laion2b_s34b_b79k')\n",
    "tokenizer = open_clip.get_tokenizer('ViT-B-32')\n",
    "\n",
    "image = preprocess(Image.open(\"data/FSC147/images_384_VarV2/2.jpg\")).unsqueeze(0)\n",
    "print(image.shape)\n",
    "text = tokenizer([\"sea shells\"])\n",
    "# print(Image.open(\"data/FSC147/images_384_VarV2/2.jpg\"))\n",
    "with torch.no_grad(), torch.cuda.amp.autocast():\n",
    "    image_features = model.encode_image(image)\n",
    "    text_features = model.encode_text(text)\n",
    "    print(image_features.shape, text_features.shape)\n",
    "    # image_features /= image_features.norm(dim=-1, keepdim=True)\n",
    "    # text_features /= text_features.norm(dim=-1, keepdim=True)\n",
    "\n",
    "    # text_probs = (100.0 * image_features @ text_features.T).softmax(dim=-1)\n",
    "\n",
    "# print(\"Label probs:\", text_probs)  # prints: [[1., 0., 0.]]"
   ]
  }
 ],
 "metadata": {
  "kernelspec": {
   "display_name": "base",
   "language": "python",
   "name": "python3"
  },
  "language_info": {
   "codemirror_mode": {
    "name": "ipython",
    "version": 3
   },
   "file_extension": ".py",
   "mimetype": "text/x-python",
   "name": "python",
   "nbconvert_exporter": "python",
   "pygments_lexer": "ipython3",
   "version": "3.8.3"
  },
  "orig_nbformat": 4
 },
 "nbformat": 4,
 "nbformat_minor": 2
}
